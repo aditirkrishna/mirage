{
 "cells": [
  {
   "cell_type": "markdown",
   "metadata": {},
   "source": [
    "# MIRAGE++ Notebook 3: Application to Synthetic Data\n",
    "\n",
    "In this notebook, we'll use MIRAGE++ on synthetic financial data. We'll generate fake alpha signals and returns, fit the model, and compare it to OLS, Ridge, and Lasso. Every step is explained for clarity."
   ]
  },
  {
   "cell_type": "markdown",
   "metadata": {},
   "source": [
    "## 1. Generating Synthetic Alpha Signals and Returns\n",
    "\n",
    "Suppose we have 10 different trading signals (features) and want to predict future returns. We'll create a ground-truth weight vector and add noise to simulate real markets."
   ]
  },
  {
   "cell_type": "code",
   "metadata": {},
   "execution_count": null,
   "outputs": [],
   "source": [
    "import numpy as np\n",
    "np.random.seed(42)\n",
    "n_samples = 200\n",
    "n_signals = 10\n",
    "X = np.random.randn(n_samples, n_signals)\n",
    "true_theta = np.random.dirichlet(np.ones(n_signals))\n",
    "y = X @ true_theta + np.random.randn(n_samples) * 0.1\n",
    "print('True weights:', true_theta)"
   ]
  },
  {
   "cell_type": "markdown",
   "metadata": {},
   "source": [
    "## 2. Visualize the True Weights\n",
    "\n",
    "Let's see what the 'real' signal blend looks like."
   ]
  },
  {
   "cell_type": "code",
   "metadata": {},
   "execution_count": null,
   "outputs": [],
   "source": [
    "import matplotlib.pyplot as plt\n",
    "plt.bar(range(n_signals), true_theta)\n",
    "plt.xlabel('Signal Index')\n",
    "plt.ylabel('True Weight')\n",
    "plt.title('Ground Truth Signal Weights')\n",
    "plt.show()"
   ]
  },
  {
   "cell_type": "markdown",
   "metadata": {},
   "source": [
    "## 3. Fit MIRAGE++ to the Data\n",
    "\n",
    "We'll use the code from the previous notebook to fit MIRAGE++ and track the loss."
   ]
  },
  {
   "cell_type": "code",
   "metadata": {},
   "execution_count": null,
   "outputs": [],
   "source": [
    "def entropy(theta, epsilon=1e-8):\n",
    "    theta = np.clip(theta, epsilon, 1.0)\n",
    "    return -np.sum(theta * np.log(theta))\n",
    "\n",
    "def loss(X, y, theta, lam):\n",
    "    preds = X @ theta\n",
    "    mse = np.mean((preds - y)**2)\n",
    "    ent = entropy(theta)\n",
    "    return mse + lam * ent\n",
    "\n",
    "def gradient(X, y, theta, lam):\n",
    "    preds = X @ theta\n",
    "    grad_mse = 2 * X.T @ (preds - y) / len(y)\n",
    "    grad_entropy = -1 - np.log(np.clip(theta, 1e-8, 1.0))\n",
    "    return grad_mse + lam * grad_entropy\n",
    "\n",
    "def mirror_descent_step(grad, theta_t, eta):\n",
    "    theta_new = theta_t * np.exp(-eta * grad)\n",
    "    theta_new = np.clip(theta_new, 1e-12, None)\n",
    "    return theta_new / np.sum(theta_new)\n",
    "\n",
    "def fit_mirage(X, y, lam=0.1, eta=0.2, n_iters=300):\n",
    "    n = X.shape[1]\n",
    "    theta = np.ones(n) / n\n",
    "    loss_hist = []\n",
    "    for i in range(n_iters):\n",
    "        grad = gradient(X, y, theta, lam)\n",
    "        theta = mirror_descent_step(grad, theta, eta)\n",
    "        loss_hist.append(loss(X, y, theta, lam))\n",
    "    return theta, loss_hist\n",
    "\n",
    "theta_mirage, loss_hist = fit_mirage(X, y, lam=0.1, eta=0.2, n_iters=300)\n",
    "print('MIRAGE++ weights:', theta_mirage)"
   ]
  },
  {
   "cell_type": "markdown",
   "metadata": {},
   "source": [
    "## 4. Visualize MIRAGE++ Weights vs. Ground Truth\n",
    "\n",
    "Let's compare the learned weights to the true weights."
   ]
  },
  {
   "cell_type": "code",
   "metadata": {},
   "execution_count": null,
   "outputs": [],
   "source": [
    "plt.bar(np.arange(n_signals)-0.15, true_theta, width=0.3, label='True')\n",
    "plt.bar(np.arange(n_signals)+0.15, theta_mirage, width=0.3, label='MIRAGE++')\n",
    "plt.xlabel('Signal Index')\n",
    "plt.ylabel('Weight')\n",
    "plt.title('True vs. MIRAGE++ Weights')\n",
    "plt.legend()\n",
    "plt.show()"
   ]
  },
  {
   "cell_type": "markdown",
   "metadata": {},
   "source": [
    "## 5. Compare to OLS, Ridge, and Lasso\n",
    "\n",
    "Let's fit standard models and compare their weights and prediction errors."
   ]
  },
  {
   "cell_type": "code",
   "metadata": {},
   "execution_count": null,
   "outputs": [],
   "source": [
    "from sklearn.linear_model import LinearRegression, Ridge, Lasso\n",
    "ols = LinearRegression().fit(X, y)\n",
    "ridge = Ridge(alpha=0.1).fit(X, y)\n",
    "lasso = Lasso(alpha=0.1).fit(X, y)\n",
    "\n",
    "plt.figure(figsize=(10,4))\n",
    "plt.bar(np.arange(n_signals)-0.3, ols.coef_, width=0.2, label='OLS')\n",
    "plt.bar(np.arange(n_signals)-0.1, ridge.coef_, width=0.2, label='Ridge')\n",
    "plt.bar(np.arange(n_signals)+0.1, lasso.coef_, width=0.2, label='Lasso')\n",
    "plt.bar(np.arange(n_signals)+0.3, theta_mirage, width=0.2, label='MIRAGE++')\n",
    "plt.xlabel('Signal Index')\n",
    "plt.ylabel('Weight')\n",
    "plt.title('Model Weights Comparison')\n",
    "plt.legend()\n",
    "plt.show()"
   ]
  },
  {
   "cell_type": "markdown",
   "metadata": {},
   "source": [
    "## 6. Prediction Error Comparison\n",
    "\n",
    "Let's compare mean squared error (MSE) for each model."
   ]
  },
  {
   "cell_type": "code",
   "metadata": {},
   "execution_count": null,
   "outputs": [],
   "source": [
    "def mse(y_true, y_pred):\n",
    "    return np.mean((y_true - y_pred)**2)\n",
    "\n",
    "y_pred_ols = ols.predict(X)\n",
    "y_pred_ridge = ridge.predict(X)\n",
    "y_pred_lasso = lasso.predict(X)\n",
    "y_pred_mirage = X @ theta_mirage\n",
    "\n",
    "print('OLS MSE:', mse(y, y_pred_ols))\n",
    "print('Ridge MSE:', mse(y, y_pred_ridge))\n",
    "print('Lasso MSE:', mse(y, y_pred_lasso))\n",
    "print('MIRAGE++ MSE:', mse(y, y_pred_mirage))"
   ]
  },
  {
   "cell_type": "markdown",
   "metadata": {},
   "source": [
    "## 7. Weight Diversity and Interpretability\n",
    "\n",
    "MIRAGE++ weights are always positive and sum to 1, making them easy to interpret as probabilities or portfolio allocations.\n",
    "\n",
    "Let's check this property."
   ]
  },
  {
   "cell_type": "code",
   "metadata": {},
   "execution_count": null,
   "outputs": [],
   "source": [
    "print('MIRAGE++ weights (should be positive):', theta_mirage)\n",
    "print('Sum of MIRAGE++ weights:', np.sum(theta_mirage))"
   ]
  },
  {
   "cell_type": "markdown",
   "metadata": {},
   "source": [
    "## 8. Summary\n",
    "\n",
    "- MIRAGE++ finds a diversified, interpretable blend of signals.\n",
    "- It performs competitively with OLS, Ridge, and Lasso.\n",
    "- Weights are always positive and sum to 1.\n",
    "\n",
    "In the next notebook, we'll apply MIRAGE++ to real financial data!"
   ]
  }
 ],
 "metadata": {
  "kernelspec": {
   "display_name": "Python 3",
   "language": "python",
   "name": "python3"
  },
  "language_info": {
   "name": "python",
   "version": "3.8"
  }
 },
 "nbformat": 4,
 "nbformat_minor": 2
}
