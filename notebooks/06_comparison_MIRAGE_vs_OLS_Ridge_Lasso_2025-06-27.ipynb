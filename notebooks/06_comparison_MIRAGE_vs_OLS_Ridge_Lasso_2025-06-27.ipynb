{
 "cells": [
  {
   "cell_type": "markdown",
   "metadata": {},
   "source": [
    "# MIRAGE++ vs OLS, Ridge, Lasso: Quant Finance Use Case Comparison\n",
    "\n",
    "Date: 2025-06-27\n",
    "\n",
    "This notebook benchmarks MIRAGE++ against classic linear models (OLS, Ridge, Lasso) for seven core quant finance problems, using synthetic toy datasets.\n",
    "\n",
    "---\n",
    "\n",
    "**Models:**\n",
    "- MIRAGE++ (entropy-regularized, mirror descent)\n",
    "- Ordinary Least Squares (OLS)\n",
    "- Ridge Regression\n",
    "- Lasso Regression\n",
    "\n",
    "**Diagnostics:**\n",
    "- Loss curves\n",
    "- Weight distributions\n",
    "- Residuals\n",
    "- Out-of-sample performance\n",
    "\n",
    "---"
   ]
  },
  {
   "cell_type": "code",
   "execution_count": null,
   "metadata": {},
   "outputs": [],
   "source": [
    "import numpy as np\n",
    "import matplotlib.pyplot as plt\n",
    "from sklearn.linear_model import LinearRegression, Ridge, Lasso\n",
    "from mirror_linear_regression.core import MirrorLinearRegression\n"
   ]
  },
  {
   "cell_type": "markdown",
   "metadata": {},
   "source": [
    "## 1. Alpha Signal Combination"
   ]
  },
  {
   "cell_type": "code",
   "execution_count": null,
   "metadata": {},
   "outputs": [],
   "source": [
    "from examples.alpha_signal_combination_toy import toy_alpha_signal_combination\n",
    "\n",
    "X, y, true_weights = toy_alpha_signal_combination(n_samples=200, n_signals=10, noise=0.02)\n",
    "n_train = 150\n",
    "X_train, X_test = X[:n_train], X[n_train:]\n",
    "y_train, y_test = y[:n_train], y[n_train:]\n",
    "\n",
    "# MIRAGE++\n",
    "mirage = MirrorLinearRegression(learning_rate=0.1, n_iters=300, lam=0.1, verbose=False)\n",
    "mirage.fit(X_train, y_train)\n",
    "mirage_pred = mirage.predict(X_test)\n",
    "mirage_weights = mirage.theta\n",
    "\n",
    "# OLS\n",
    "ols = LinearRegression()\n",
    "ols.fit(X_train, y_train)\n",
    "ols_pred = ols.predict(X_test)\n",
    "ols_weights = ols.coef_\n",
    "\n",
    "# Ridge\n",
    "ridge = Ridge(alpha=0.5)\n",
    "ridge.fit(X_train, y_train)\n",
    "ridge_pred = ridge.predict(X_test)\n",
    "ridge_weights = ridge.coef_\n",
    "\n",
    "# Lasso\n",
    "lasso = Lasso(alpha=0.05, max_iter=1000)\n",
    "lasso.fit(X_train, y_train)\n",
    "lasso_pred = lasso.predict(X_test)\n",
    "lasso_weights = lasso.coef_\n",
    "\n",
    "# Metrics\n",
    "from sklearn.metrics import mean_squared_error\n",
    "print(\"MSE (Test)\\n---\")\n",
    "print(f'MIRAGE++: {mean_squared_error(y_test, mirage_pred):.4f}')\n",
    "print(f'OLS:      {mean_squared_error(y_test, ols_pred):.4f}')\n",
    "print(f'Ridge:    {mean_squared_error(y_test, ridge_pred):.4f}')\n",
    "print(f'Lasso:    {mean_squared_error(y_test, lasso_pred):.4f}')\n",
    "\n",
    "plt.figure(figsize=(8,4))\n",
    "plt.bar(np.arange(len(true_weights))-0.3, true_weights, width=0.15, label='True', color='k', alpha=0.5)\n",
    "plt.bar(np.arange(len(mirage_weights))-0.15, mirage_weights, width=0.15, label='MIRAGE++')\n",
    "plt.bar(np.arange(len(ols_weights)), ols_weights, width=0.15, label='OLS')\n",
    "plt.bar(np.arange(len(ridge_weights))+0.15, ridge_weights, width=0.15, label='Ridge')\n",
    "plt.bar(np.arange(len(lasso_weights))+0.3, lasso_weights, width=0.15, label='Lasso')\n",
    "plt.title('Weight Comparison: Alpha Signal Combination')\n",
    "plt.xlabel('Signal Index')\n",
    "plt.ylabel('Weight')\n",
    "plt.legend()\n",
    "plt.show()\n",
    "\n",
    "plt.figure(figsize=(6,4))\n",
    "plt.scatter(y_test, mirage_pred, alpha=0.7, label='MIRAGE++')\n",
    "plt.scatter(y_test, ols_pred, alpha=0.7, label='OLS')\n",
    "plt.scatter(y_test, ridge_pred, alpha=0.7, label='Ridge')\n",
    "plt.scatter(y_test, lasso_pred, alpha=0.7, label='Lasso')\n",
    "plt.plot(y_test, y_test, 'k--', lw=1, label='Ideal')\n",
    "plt.title('Prediction vs True (Test)')\n",
    "plt.xlabel('True y')\n",
    "plt.ylabel('Predicted y')\n",
    "plt.legend()\n",
    "plt.grid(True)\n",
    "plt.show()\n"
   ]
  },
  {
   "cell_type": "markdown",
   "metadata": {},
   "source": [
    "## 2. Sparse Portfolio Allocation\n",
    "\n",
    "(Template for you to fill out: import the toy dataset, fit MIRAGE++, OLS, Ridge, Lasso, and visualize results.)\n"
   ]
  },
  {
   "cell_type": "markdown",
   "metadata": {},
   "source": [
    "## 3. Volatility Forecasting\n",
    "\n",
    "(Template for you to fill out: import the toy dataset, fit MIRAGE++, OLS, Ridge, Lasso, and visualize results.)\n"
   ]
  },
  {
   "cell_type": "markdown",
   "metadata": {},
   "source": [
    "## 4. Factor Exposure Estimation\n",
    "\n",
    "(Template for you to fill out: import the toy dataset, fit MIRAGE++, OLS, Ridge, Lasso, and visualize results.)\n"
   ]
  },
  {
   "cell_type": "markdown",
   "metadata": {},
   "source": [
    "## 5. Ensemble Forecasting\n",
    "\n",
    "(Template for you to fill out: import the toy dataset, fit MIRAGE++, OLS, Ridge, Lasso, and visualize results.)\n"
   ]
  },
  {
   "cell_type": "markdown",
   "metadata": {},
   "source": [
    "## 6. Option Surface Calibration\n",
    "\n",
    "(Template for you to fill out: import the toy dataset, fit MIRAGE++, OLS, Ridge, Lasso, and visualize results.)\n"
   ]
  },
  {
   "cell_type": "markdown",
   "metadata": {},
   "source": [
    "## 7. Macro Predictive Modeling\n",
    "\n",
    "(Template for you to fill out: import the toy dataset, fit MIRAGE++, OLS, Ridge, Lasso, and visualize results.)\n"
   ]
  }
 ],
 "metadata": {
  "kernelspec": {
   "display_name": "Python 3",
   "language": "python",
   "name": "python3"
  },
  "language_info": {
   "name": "python",
   "version": "3.8"
  }
 },
 "nbformat": 4,
 "nbformat_minor": 2
}
