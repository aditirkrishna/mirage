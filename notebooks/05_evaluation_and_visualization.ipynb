{
 "cells": [
  {
   "cell_type": "markdown",
   "metadata": {},
   "source": [
    "# MIRAGE++: Evaluation & Visualization\n",
    "\n",
    "This notebook demonstrates model evaluation, visualization of training dynamics, and portfolio/alpha performance using MIRAGE++."
   ]
  },
  {
   "cell_type": "code",
   "execution_count": null,
   "metadata": {},
   "outputs": [],
   "source": [
    "import numpy as np\n",
    "import matplotlib.pyplot as plt\n",
    "from mirror_linear_regression.core import MirrorLinearRegression\n",
    "from mirror_linear_regression.portfolio_alloc import PortfolioAllocator\n",
    "from mirror_linear_regression.finance_alpha import AlphaSignalCombiner\n"
   ]
  },
  {
   "cell_type": "markdown",
   "metadata": {},
   "source": [
    "## 1. Loss Curve and Weight Evolution (Synthetic Data)"
   ]
  },
  {
   "cell_type": "code",
   "execution_count": null,
   "metadata": {},
   "outputs": [],
   "source": [
    "# Generate synthetic data\n",
    "np.random.seed(42)\n",
    "X = np.random.randn(200, 3)\n",
    "true_theta = np.array([0.2, 0.5, 0.3])\n",
    "y = X @ true_theta + 0.01 * np.random.randn(200)\n",
    "\n",
    "model = MirrorLinearRegression(learning_rate=0.15, n_iters=400, lam=0.05, verbose=False)\n",
    "model.fit(X, y)\n",
    "\n",
    "plt.figure(figsize=(6, 4))\n",
    "plt.plot(model.loss_history)\n",
    "plt.title('Training Loss Curve')\n",
    "plt.xlabel('Iteration')\n",
    "plt.ylabel('Loss')\n",
    "plt.grid(True)\n",
    "plt.show()\n",
    "\n",
    "plt.figure(figsize=(6, 4))\n",
    "theta_hist = np.array([model.theta for _ in range(len(model.loss_history))])\n",
    "for i in range(theta_hist.shape[1]):\n",
    "    plt.plot([model.theta[i]] * len(model.loss_history), label=f'Weight {i+1}')\n",
    "plt.title('Final Weights (Constant after fit)')\n",
    "plt.xlabel('Iteration')\n",
    "plt.ylabel('Weight Value')\n",
    "plt.legend()\n",
    "plt.grid(True)\n",
    "plt.show()\n"
   ]
  },
  {
   "cell_type": "markdown",
   "metadata": {},
   "source": [
    "## 2. Portfolio Allocation Visualization"
   ]
  },
  {
   "cell_type": "code",
   "execution_count": null,
   "metadata": {},
   "outputs": [],
   "source": [
    "returns = np.random.randn(120, 4) * 0.02 + 0.001\n",
    "allocator = PortfolioAllocator(learning_rate=0.15, n_iters=300, lam=0.1)\n",
    "allocator.fit(returns)\n",
    "weights = allocator.get_weights()\n",
    "\n",
    "plt.bar(range(len(weights)), weights)\n",
    "plt.title('Optimized Portfolio Weights')\n",
    "plt.xlabel('Asset')\n",
    "plt.ylabel('Weight')\n",
    "plt.grid(True)\n",
    "plt.show()\n",
    "\n",
    "# Portfolio return simulation\n",
    "portfolio_returns = returns @ weights\n",
    "plt.plot(np.cumprod(1 + portfolio_returns))\n",
    "plt.title('Portfolio Growth (Cumulative Return)')\n",
    "plt.xlabel('Time')\n",
    "plt.ylabel('Growth')\n",
    "plt.grid(True)\n",
    "plt.show()\n"
   ]
  },
  {
   "cell_type": "markdown",
   "metadata": {},
   "source": [
    "## 3. Alpha Signal Combination Visualization"
   ]
  },
  {
   "cell_type": "code",
   "execution_count": null,
   "metadata": {},
   "outputs": [],
   "source": [
    "X = np.random.randn(100, 3)\n",
    "y = 0.3 * X[:, 0] + 0.5 * X[:, 1] + 0.2 * X[:, 2] + 0.01 * np.random.randn(100)\n",
    "combiner = AlphaSignalCombiner(learning_rate=0.12, n_iters=350, lam=0.07)\n",
    "combiner.fit(X, y)\n",
    "pred = combiner.predict(X)\n",
    "weights = combiner.get_signal_weights()\n",
    "\n",
    "plt.bar(range(len(weights)), weights)\n",
    "plt.title('Alpha Signal Weights')\n",
    "plt.xlabel('Signal')\n",
    "plt.ylabel('Weight')\n",
    "plt.grid(True)\n",
    "plt.show()\n",
    "\n",
    "plt.scatter(y, pred, alpha=0.7)\n",
    "plt.title('Alpha Prediction vs. True')\n",
    "plt.xlabel('True Returns')\n",
    "plt.ylabel('Predicted Returns')\n",
    "plt.grid(True)\n",
    "plt.show()\n"
   ]
  }
 ],
 "metadata": {
  "kernelspec": {
   "display_name": "Python 3",
   "language": "python",
   "name": "python3"
  },
  "language_info": {
   "name": "python",
   "version": "3.8"
  }
 },
 "nbformat": 4,
 "nbformat_minor": 2
}
